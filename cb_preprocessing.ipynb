{
 "cells": [
  {
   "cell_type": "markdown",
   "metadata": {},
   "source": [
    "### 0. Imports"
   ]
  },
  {
   "cell_type": "code",
   "execution_count": 1,
   "metadata": {},
   "outputs": [],
   "source": [
    "import pandas as pd\n",
    "import numpy as np\n",
    "import matplotlib.pyplot as plt\n",
    "#importing warnings to turn off future warnings\n",
    "import warnings\n",
    "warnings.simplefilter(action='ignore')\n"
   ]
  },
  {
   "cell_type": "code",
   "execution_count": 2,
   "metadata": {},
   "outputs": [
    {
     "data": {
      "text/html": [
       "<div>\n",
       "<style scoped>\n",
       "    .dataframe tbody tr th:only-of-type {\n",
       "        vertical-align: middle;\n",
       "    }\n",
       "\n",
       "    .dataframe tbody tr th {\n",
       "        vertical-align: top;\n",
       "    }\n",
       "\n",
       "    .dataframe thead th {\n",
       "        text-align: right;\n",
       "    }\n",
       "</style>\n",
       "<table border=\"1\" class=\"dataframe\">\n",
       "  <thead>\n",
       "    <tr style=\"text-align: right;\">\n",
       "      <th></th>\n",
       "      <th>author_average_rating</th>\n",
       "      <th>author_gender</th>\n",
       "      <th>author_genres</th>\n",
       "      <th>author_id</th>\n",
       "      <th>author_name</th>\n",
       "      <th>author_page_url</th>\n",
       "      <th>author_rating_count</th>\n",
       "      <th>author_review_count</th>\n",
       "      <th>birthplace</th>\n",
       "      <th>book_average_rating</th>\n",
       "      <th>book_fullurl</th>\n",
       "      <th>book_id</th>\n",
       "      <th>book_title</th>\n",
       "      <th>genre_1</th>\n",
       "      <th>genre_2</th>\n",
       "      <th>num_ratings</th>\n",
       "      <th>num_reviews</th>\n",
       "      <th>pages</th>\n",
       "      <th>publish_date</th>\n",
       "      <th>score</th>\n",
       "    </tr>\n",
       "  </thead>\n",
       "  <tbody>\n",
       "    <tr>\n",
       "      <th>0</th>\n",
       "      <td>4.01</td>\n",
       "      <td>female</td>\n",
       "      <td>historical-fiction,</td>\n",
       "      <td>74489</td>\n",
       "      <td>Victoria Thompson\\n</td>\n",
       "      <td>/author/show/74489.Victoria_Thompson</td>\n",
       "      <td>74399</td>\n",
       "      <td>6268</td>\n",
       "      <td>United States\\n</td>\n",
       "      <td>4.02</td>\n",
       "      <td>https://www.goodreads.com/book/show/686717.Mur...</td>\n",
       "      <td>686717</td>\n",
       "      <td>\\n      Murder on St. Mark's Place\\n</td>\n",
       "      <td>Mystery</td>\n",
       "      <td>Historical</td>\n",
       "      <td>5260</td>\n",
       "      <td>375</td>\n",
       "      <td>277</td>\n",
       "      <td>2000</td>\n",
       "      <td>3230</td>\n",
       "    </tr>\n",
       "    <tr>\n",
       "      <th>1</th>\n",
       "      <td>4.15</td>\n",
       "      <td>male</td>\n",
       "      <td>literature-fiction,mystery-thrillers,</td>\n",
       "      <td>706255</td>\n",
       "      <td>Stieg Larsson\\n</td>\n",
       "      <td>/author/show/706255.Stieg_Larsson</td>\n",
       "      <td>3726435</td>\n",
       "      <td>142704</td>\n",
       "      <td>Sweden\\n</td>\n",
       "      <td>4.13</td>\n",
       "      <td>https://www.goodreads.com/book/show/2429135.Th...</td>\n",
       "      <td>2429135</td>\n",
       "      <td>\\n      The Girl with the Dragon Tattoo\\n</td>\n",
       "      <td>Fiction</td>\n",
       "      <td>Mystery</td>\n",
       "      <td>2229163</td>\n",
       "      <td>65227</td>\n",
       "      <td>465</td>\n",
       "      <td>August 2005</td>\n",
       "      <td>3062</td>\n",
       "    </tr>\n",
       "    <tr>\n",
       "      <th>2</th>\n",
       "      <td>4.00</td>\n",
       "      <td>female</td>\n",
       "      <td>romance,</td>\n",
       "      <td>5618190</td>\n",
       "      <td>Mimi Jean Pamfiloff\\n</td>\n",
       "      <td>/author/show/5618190.Mimi_Jean_Pamfiloff</td>\n",
       "      <td>76496</td>\n",
       "      <td>7975</td>\n",
       "      <td>United States\\n</td>\n",
       "      <td>3.99</td>\n",
       "      <td>https://www.goodreads.com/book/show/27833684-t...</td>\n",
       "      <td>27833684</td>\n",
       "      <td>\\n      Tailored for Trouble\\n</td>\n",
       "      <td>Romance</td>\n",
       "      <td>Contemporary</td>\n",
       "      <td>2151</td>\n",
       "      <td>391</td>\n",
       "      <td>354</td>\n",
       "      <td>2016</td>\n",
       "      <td>4585</td>\n",
       "    </tr>\n",
       "    <tr>\n",
       "      <th>3</th>\n",
       "      <td>3.88</td>\n",
       "      <td>male</td>\n",
       "      <td>fiction,memoir,</td>\n",
       "      <td>37871</td>\n",
       "      <td>José Donoso\\n</td>\n",
       "      <td>/author/show/37871.Jos_Donoso</td>\n",
       "      <td>5522</td>\n",
       "      <td>489</td>\n",
       "      <td>Chile\\n</td>\n",
       "      <td>4.14</td>\n",
       "      <td>https://www.goodreads.com/book/show/382975.The...</td>\n",
       "      <td>382975</td>\n",
       "      <td>\\n      The Obscene Bird of Night\\n</td>\n",
       "      <td>Fiction</td>\n",
       "      <td>Magical Realism</td>\n",
       "      <td>1844</td>\n",
       "      <td>173</td>\n",
       "      <td>438</td>\n",
       "      <td>1970</td>\n",
       "      <td>1533</td>\n",
       "    </tr>\n",
       "    <tr>\n",
       "      <th>4</th>\n",
       "      <td>4.10</td>\n",
       "      <td>female</td>\n",
       "      <td>young-adult,fantasy,</td>\n",
       "      <td>36122</td>\n",
       "      <td>Patricia C. Wrede\\n</td>\n",
       "      <td>/author/show/36122.Patricia_C_Wrede</td>\n",
       "      <td>291013</td>\n",
       "      <td>13453</td>\n",
       "      <td>United States\\n</td>\n",
       "      <td>4.01</td>\n",
       "      <td>https://www.goodreads.com/book/show/64207.Sorc...</td>\n",
       "      <td>64207</td>\n",
       "      <td>\\n      Sorcery &amp; Cecelia: or The Enchanted Ch...</td>\n",
       "      <td>Fantasy</td>\n",
       "      <td>Young Adult</td>\n",
       "      <td>17051</td>\n",
       "      <td>1890</td>\n",
       "      <td>326</td>\n",
       "      <td>April 15th 1988</td>\n",
       "      <td>2105</td>\n",
       "    </tr>\n",
       "  </tbody>\n",
       "</table>\n",
       "</div>"
      ],
      "text/plain": [
       "   author_average_rating author_gender                          author_genres  \\\n",
       "0                   4.01        female                    historical-fiction,   \n",
       "1                   4.15          male  literature-fiction,mystery-thrillers,   \n",
       "2                   4.00        female                               romance,   \n",
       "3                   3.88          male                        fiction,memoir,   \n",
       "4                   4.10        female                   young-adult,fantasy,   \n",
       "\n",
       "   author_id            author_name                           author_page_url  \\\n",
       "0      74489    Victoria Thompson\\n      /author/show/74489.Victoria_Thompson   \n",
       "1     706255        Stieg Larsson\\n         /author/show/706255.Stieg_Larsson   \n",
       "2    5618190  Mimi Jean Pamfiloff\\n  /author/show/5618190.Mimi_Jean_Pamfiloff   \n",
       "3      37871          José Donoso\\n             /author/show/37871.Jos_Donoso   \n",
       "4      36122    Patricia C. Wrede\\n       /author/show/36122.Patricia_C_Wrede   \n",
       "\n",
       "   author_rating_count  author_review_count            birthplace  \\\n",
       "0                74399                 6268   United States\\n       \n",
       "1              3726435               142704          Sweden\\n       \n",
       "2                76496                 7975     United States\\n     \n",
       "3                 5522                  489           Chile\\n       \n",
       "4               291013                13453   United States\\n       \n",
       "\n",
       "   book_average_rating                                       book_fullurl  \\\n",
       "0                 4.02  https://www.goodreads.com/book/show/686717.Mur...   \n",
       "1                 4.13  https://www.goodreads.com/book/show/2429135.Th...   \n",
       "2                 3.99  https://www.goodreads.com/book/show/27833684-t...   \n",
       "3                 4.14  https://www.goodreads.com/book/show/382975.The...   \n",
       "4                 4.01  https://www.goodreads.com/book/show/64207.Sorc...   \n",
       "\n",
       "    book_id                                         book_title  genre_1  \\\n",
       "0    686717               \\n      Murder on St. Mark's Place\\n  Mystery   \n",
       "1   2429135          \\n      The Girl with the Dragon Tattoo\\n  Fiction   \n",
       "2  27833684                     \\n      Tailored for Trouble\\n  Romance   \n",
       "3    382975                \\n      The Obscene Bird of Night\\n  Fiction   \n",
       "4     64207  \\n      Sorcery & Cecelia: or The Enchanted Ch...  Fantasy   \n",
       "\n",
       "           genre_2  num_ratings  num_reviews pages     publish_date  score  \n",
       "0       Historical         5260          375   277             2000   3230  \n",
       "1          Mystery      2229163        65227   465      August 2005   3062  \n",
       "2     Contemporary         2151          391   354             2016   4585  \n",
       "3  Magical Realism         1844          173   438             1970   1533  \n",
       "4      Young Adult        17051         1890   326  April 15th 1988   2105  "
      ]
     },
     "execution_count": 2,
     "metadata": {},
     "output_type": "execute_result"
    }
   ],
   "source": [
    "#reading in the data\n",
    "goodreads_sample = pd.read_csv('good_reads_final.csv')\n",
    "goodreads_sample.head()"
   ]
  },
  {
   "cell_type": "markdown",
   "metadata": {},
   "source": [
    "### 1. Preprocess Data"
   ]
  },
  {
   "cell_type": "markdown",
   "metadata": {},
   "source": [
    "#### 1.1 Check for Duplicate bookid"
   ]
  },
  {
   "cell_type": "code",
   "execution_count": 3,
   "metadata": {},
   "outputs": [
    {
     "data": {
      "text/plain": [
       "16830"
      ]
     },
     "execution_count": 3,
     "metadata": {},
     "output_type": "execute_result"
    }
   ],
   "source": [
    "#find duplicates\n",
    "len(goodreads_sample['book_id'].unique())"
   ]
  },
  {
   "cell_type": "code",
   "execution_count": 4,
   "metadata": {},
   "outputs": [
    {
     "data": {
      "text/plain": [
       "(6061, 20)"
      ]
     },
     "execution_count": 4,
     "metadata": {},
     "output_type": "execute_result"
    }
   ],
   "source": [
    "dup_item = goodreads_sample[goodreads_sample['book_id'].duplicated()]\n",
    "dup_item.shape"
   ]
  },
  {
   "cell_type": "code",
   "execution_count": 5,
   "metadata": {},
   "outputs": [],
   "source": [
    "#drop duplicates based on 'book_title'\n",
    "goodreads_sample = goodreads_sample.drop_duplicates(subset=['book_id'])"
   ]
  },
  {
   "cell_type": "code",
   "execution_count": 6,
   "metadata": {},
   "outputs": [
    {
     "data": {
      "text/plain": [
       "(16830, 20)"
      ]
     },
     "execution_count": 6,
     "metadata": {},
     "output_type": "execute_result"
    }
   ],
   "source": [
    "goodreads_sample.shape"
   ]
  },
  {
   "cell_type": "code",
   "execution_count": 7,
   "metadata": {},
   "outputs": [
    {
     "data": {
      "image/png": "[encoded data removed]",
      "text/plain": [
       "<Figure size 432x288 with 1 Axes>"
      ]
     },
     "metadata": {
      "needs_background": "light"
     },
     "output_type": "display_data"
    }
   ],
   "source": [
    "goodreads_sample['author_average_rating'].hist()\n",
    "plt.show()"
   ]
  },
  {
   "cell_type": "code",
   "execution_count": 8,
   "metadata": {},
   "outputs": [
    {
     "data": {
      "image/png": "[encoded data removed]",
      "text/plain": [
       "<Figure size 432x288 with 1 Axes>"
      ]
     },
     "metadata": {
      "needs_background": "light"
     },
     "output_type": "display_data"
    }
   ],
   "source": [
    "goodreads_sample['book_average_rating'].hist()\n",
    "plt.show()"
   ]
  },
  {
   "cell_type": "markdown",
   "metadata": {},
   "source": [
    "#### 1.1 Drop Columns"
   ]
  },
  {
   "cell_type": "code",
   "execution_count": 9,
   "metadata": {},
   "outputs": [],
   "source": [
    "#filter out specific columns\n",
    "data = goodreads_sample.loc[:,['author_genres','author_name','book_title', 'genre_1', 'genre_2']]"
   ]
  },
  {
   "cell_type": "code",
   "execution_count": 10,
   "metadata": {},
   "outputs": [
    {
     "data": {
      "text/html": [
       "<div>\n",
       "<style scoped>\n",
       "    .dataframe tbody tr th:only-of-type {\n",
       "        vertical-align: middle;\n",
       "    }\n",
       "\n",
       "    .dataframe tbody tr th {\n",
       "        vertical-align: top;\n",
       "    }\n",
       "\n",
       "    .dataframe thead th {\n",
       "        text-align: right;\n",
       "    }\n",
       "</style>\n",
       "<table border=\"1\" class=\"dataframe\">\n",
       "  <thead>\n",
       "    <tr style=\"text-align: right;\">\n",
       "      <th></th>\n",
       "      <th>author_genres</th>\n",
       "      <th>author_name</th>\n",
       "      <th>book_title</th>\n",
       "      <th>genre_1</th>\n",
       "      <th>genre_2</th>\n",
       "    </tr>\n",
       "  </thead>\n",
       "  <tbody>\n",
       "    <tr>\n",
       "      <th>0</th>\n",
       "      <td>historical-fiction,</td>\n",
       "      <td>Victoria Thompson\\n</td>\n",
       "      <td>\\n      Murder on St. Mark's Place\\n</td>\n",
       "      <td>Mystery</td>\n",
       "      <td>Historical</td>\n",
       "    </tr>\n",
       "    <tr>\n",
       "      <th>1</th>\n",
       "      <td>literature-fiction,mystery-thrillers,</td>\n",
       "      <td>Stieg Larsson\\n</td>\n",
       "      <td>\\n      The Girl with the Dragon Tattoo\\n</td>\n",
       "      <td>Fiction</td>\n",
       "      <td>Mystery</td>\n",
       "    </tr>\n",
       "    <tr>\n",
       "      <th>2</th>\n",
       "      <td>romance,</td>\n",
       "      <td>Mimi Jean Pamfiloff\\n</td>\n",
       "      <td>\\n      Tailored for Trouble\\n</td>\n",
       "      <td>Romance</td>\n",
       "      <td>Contemporary</td>\n",
       "    </tr>\n",
       "    <tr>\n",
       "      <th>3</th>\n",
       "      <td>fiction,memoir,</td>\n",
       "      <td>José Donoso\\n</td>\n",
       "      <td>\\n      The Obscene Bird of Night\\n</td>\n",
       "      <td>Fiction</td>\n",
       "      <td>Magical Realism</td>\n",
       "    </tr>\n",
       "    <tr>\n",
       "      <th>4</th>\n",
       "      <td>young-adult,fantasy,</td>\n",
       "      <td>Patricia C. Wrede\\n</td>\n",
       "      <td>\\n      Sorcery &amp; Cecelia: or The Enchanted Ch...</td>\n",
       "      <td>Fantasy</td>\n",
       "      <td>Young Adult</td>\n",
       "    </tr>\n",
       "  </tbody>\n",
       "</table>\n",
       "</div>"
      ],
      "text/plain": [
       "                           author_genres            author_name  \\\n",
       "0                    historical-fiction,    Victoria Thompson\\n   \n",
       "1  literature-fiction,mystery-thrillers,        Stieg Larsson\\n   \n",
       "2                               romance,  Mimi Jean Pamfiloff\\n   \n",
       "3                        fiction,memoir,          José Donoso\\n   \n",
       "4                   young-adult,fantasy,    Patricia C. Wrede\\n   \n",
       "\n",
       "                                          book_title  genre_1          genre_2  \n",
       "0               \\n      Murder on St. Mark's Place\\n  Mystery       Historical  \n",
       "1          \\n      The Girl with the Dragon Tattoo\\n  Fiction          Mystery  \n",
       "2                     \\n      Tailored for Trouble\\n  Romance     Contemporary  \n",
       "3                \\n      The Obscene Bird of Night\\n  Fiction  Magical Realism  \n",
       "4  \\n      Sorcery & Cecelia: or The Enchanted Ch...  Fantasy      Young Adult  "
      ]
     },
     "execution_count": 10,
     "metadata": {},
     "output_type": "execute_result"
    }
   ],
   "source": [
    "#checking out the file\n",
    "data.head()"
   ]
  },
  {
   "cell_type": "code",
   "execution_count": 11,
   "metadata": {},
   "outputs": [
    {
     "data": {
      "text/plain": [
       "(16830, 5)"
      ]
     },
     "execution_count": 11,
     "metadata": {},
     "output_type": "execute_result"
    }
   ],
   "source": [
    "data.shape"
   ]
  },
  {
   "cell_type": "code",
   "execution_count": 12,
   "metadata": {},
   "outputs": [
    {
     "data": {
      "text/plain": [
       "author_genres    0\n",
       "author_name      0\n",
       "book_title       0\n",
       "genre_1          0\n",
       "genre_2          0\n",
       "dtype: int64"
      ]
     },
     "execution_count": 12,
     "metadata": {},
     "output_type": "execute_result"
    }
   ],
   "source": [
    "#find missing values\n",
    "data.isnull().sum()"
   ]
  },
  {
   "cell_type": "code",
   "execution_count": 13,
   "metadata": {},
   "outputs": [],
   "source": [
    "#we have '-' in author_genres, lets replace it with whitespace \n",
    "#so that they can be considered as different strings\n",
    "data['author_genres'] = data['author_genres'].str.replace(',', ' ')\n",
    "data['author_genres'] = data['author_genres'].str.replace('-', ' ')\n",
    "\n",
    "#similarly we replace '\\n' in author_name  \n",
    "data['author_name'] = data['author_name'].str.replace('\\n', ' ')\n",
    "\n",
    "#similarly we replace '\\n' and ':' in book_title  \n",
    "data['book_title'] = data['book_title'].str.replace('\\n', ' ')\n",
    "data['book_title'] = data['book_title'].str.replace(':', ' ')\n",
    "data['book_title'] = data['book_title'].str.replace(',', ' ')\n",
    "data['book_title'] = data['book_title'].str.replace('/', ' ')\n",
    "data['book_title'] = data['book_title'].str.replace('-', ' ')"
   ]
  },
  {
   "cell_type": "code",
   "execution_count": 14,
   "metadata": {},
   "outputs": [],
   "source": [
    "#remove leading and trailing spaces\n",
    "data['author_genres'] = data['author_genres'].str.strip()\n",
    "data['author_name'] = data['author_name'].str.strip()\n",
    "data['book_title'] = data['book_title'].str.strip()\n",
    "data['genre_1'] = data['genre_1'].str.strip()\n",
    "data['genre_2'] = data['genre_2'].str.strip()"
   ]
  },
  {
   "cell_type": "code",
   "execution_count": 15,
   "metadata": {},
   "outputs": [
    {
     "data": {
      "text/html": [
       "<div>\n",
       "<style scoped>\n",
       "    .dataframe tbody tr th:only-of-type {\n",
       "        vertical-align: middle;\n",
       "    }\n",
       "\n",
       "    .dataframe tbody tr th {\n",
       "        vertical-align: top;\n",
       "    }\n",
       "\n",
       "    .dataframe thead th {\n",
       "        text-align: right;\n",
       "    }\n",
       "</style>\n",
       "<table border=\"1\" class=\"dataframe\">\n",
       "  <thead>\n",
       "    <tr style=\"text-align: right;\">\n",
       "      <th></th>\n",
       "      <th>author_genres</th>\n",
       "      <th>author_name</th>\n",
       "      <th>book_title</th>\n",
       "      <th>genre_1</th>\n",
       "      <th>genre_2</th>\n",
       "    </tr>\n",
       "  </thead>\n",
       "  <tbody>\n",
       "    <tr>\n",
       "      <th>0</th>\n",
       "      <td>historical fiction</td>\n",
       "      <td>victoria thompson</td>\n",
       "      <td>murder on st. mark's place</td>\n",
       "      <td>mystery</td>\n",
       "      <td>historical</td>\n",
       "    </tr>\n",
       "    <tr>\n",
       "      <th>1</th>\n",
       "      <td>literature fiction mystery thrillers</td>\n",
       "      <td>stieg larsson</td>\n",
       "      <td>the girl with the dragon tattoo</td>\n",
       "      <td>fiction</td>\n",
       "      <td>mystery</td>\n",
       "    </tr>\n",
       "    <tr>\n",
       "      <th>2</th>\n",
       "      <td>romance</td>\n",
       "      <td>mimi jean pamfiloff</td>\n",
       "      <td>tailored for trouble</td>\n",
       "      <td>romance</td>\n",
       "      <td>contemporary</td>\n",
       "    </tr>\n",
       "    <tr>\n",
       "      <th>3</th>\n",
       "      <td>fiction memoir</td>\n",
       "      <td>josé donoso</td>\n",
       "      <td>the obscene bird of night</td>\n",
       "      <td>fiction</td>\n",
       "      <td>magical realism</td>\n",
       "    </tr>\n",
       "    <tr>\n",
       "      <th>4</th>\n",
       "      <td>young adult fantasy</td>\n",
       "      <td>patricia c. wrede</td>\n",
       "      <td>sorcery &amp; cecelia  or the enchanted chocolate pot</td>\n",
       "      <td>fantasy</td>\n",
       "      <td>young adult</td>\n",
       "    </tr>\n",
       "  </tbody>\n",
       "</table>\n",
       "</div>"
      ],
      "text/plain": [
       "                          author_genres          author_name  \\\n",
       "0                    historical fiction    victoria thompson   \n",
       "1  literature fiction mystery thrillers        stieg larsson   \n",
       "2                               romance  mimi jean pamfiloff   \n",
       "3                        fiction memoir          josé donoso   \n",
       "4                   young adult fantasy    patricia c. wrede   \n",
       "\n",
       "                                          book_title  genre_1          genre_2  \n",
       "0                         murder on st. mark's place  mystery       historical  \n",
       "1                    the girl with the dragon tattoo  fiction          mystery  \n",
       "2                               tailored for trouble  romance     contemporary  \n",
       "3                          the obscene bird of night  fiction  magical realism  \n",
       "4  sorcery & cecelia  or the enchanted chocolate pot  fantasy      young adult  "
      ]
     },
     "execution_count": 15,
     "metadata": {},
     "output_type": "execute_result"
    }
   ],
   "source": [
    "# Now converting all columns values to lowercase for searching simplicity.\n",
    "data['author_genres'] = data['author_genres'].str.lower()\n",
    "data['author_name'] = data['author_name'].str.lower()\n",
    "data['book_title'] = data['book_title'].str.lower()\n",
    "data['genre_1'] = data['genre_1'].str.lower()\n",
    "data['genre_2'] = data['genre_2'].str.lower()\n",
    "data.head()"
   ]
  },
  {
   "cell_type": "code",
   "execution_count": 16,
   "metadata": {},
   "outputs": [],
   "source": [
    "#save processed data for later access\n",
    "data.to_csv('data.csv',index=False)"
   ]
  }
 ],
 "metadata": {
  "kernelspec": {
   "display_name": "Python 3",
   "language": "python",
   "name": "python3"
  },
  "language_info": {
   "codemirror_mode": {
    "name": "ipython",
    "version": 3
   },
   "file_extension": ".py",
   "mimetype": "text/x-python",
   "name": "python",
   "nbconvert_exporter": "python",
   "pygments_lexer": "ipython3",
   "version": "3.7.3"
  }
 },
 "nbformat": 4,
 "nbformat_minor": 2
}
