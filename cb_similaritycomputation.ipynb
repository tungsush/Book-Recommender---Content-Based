{
 "cells": [
  {
   "cell_type": "markdown",
   "metadata": {},
   "source": [
    "### 0.Imports"
   ]
  },
  {
   "cell_type": "code",
   "execution_count": 1,
   "metadata": {},
   "outputs": [],
   "source": [
    "import pandas as pd\n",
    "import numpy as np\n",
    "\n",
    "from sklearn.feature_extraction.text import CountVectorizer\n",
    "from sklearn.metrics.pairwise import cosine_similarity"
   ]
  },
  {
   "cell_type": "markdown",
   "metadata": {},
   "source": [
    "### 1.Load processed data"
   ]
  },
  {
   "cell_type": "code",
   "execution_count": 2,
   "metadata": {},
   "outputs": [],
   "source": [
    "data = pd.read_csv('data.csv')"
   ]
  },
  {
   "cell_type": "code",
   "execution_count": 3,
   "metadata": {},
   "outputs": [],
   "source": [
    "# making the new column containing combination of all the features\n",
    "data['comb'] = data['author_genres'] + ' ' + data['author_name'] + ' '+ data['book_title'] + ' '+ data['genre_1'] +' ' + data['genre_2']"
   ]
  },
  {
   "cell_type": "code",
   "execution_count": 4,
   "metadata": {},
   "outputs": [
    {
     "data": {
      "text/html": [
       "<div>\n",
       "<style scoped>\n",
       "    .dataframe tbody tr th:only-of-type {\n",
       "        vertical-align: middle;\n",
       "    }\n",
       "\n",
       "    .dataframe tbody tr th {\n",
       "        vertical-align: top;\n",
       "    }\n",
       "\n",
       "    .dataframe thead th {\n",
       "        text-align: right;\n",
       "    }\n",
       "</style>\n",
       "<table border=\"1\" class=\"dataframe\">\n",
       "  <thead>\n",
       "    <tr style=\"text-align: right;\">\n",
       "      <th></th>\n",
       "      <th>author_genres</th>\n",
       "      <th>author_name</th>\n",
       "      <th>book_title</th>\n",
       "      <th>genre_1</th>\n",
       "      <th>genre_2</th>\n",
       "      <th>comb</th>\n",
       "    </tr>\n",
       "  </thead>\n",
       "  <tbody>\n",
       "    <tr>\n",
       "      <th>0</th>\n",
       "      <td>historical fiction</td>\n",
       "      <td>victoria thompson</td>\n",
       "      <td>murder on st. mark's place</td>\n",
       "      <td>mystery</td>\n",
       "      <td>historical</td>\n",
       "      <td>historical fiction victoria thompson murder on...</td>\n",
       "    </tr>\n",
       "    <tr>\n",
       "      <th>1</th>\n",
       "      <td>literature fiction mystery thrillers</td>\n",
       "      <td>stieg larsson</td>\n",
       "      <td>the girl with the dragon tattoo</td>\n",
       "      <td>fiction</td>\n",
       "      <td>mystery</td>\n",
       "      <td>literature fiction mystery thrillers stieg lar...</td>\n",
       "    </tr>\n",
       "    <tr>\n",
       "      <th>2</th>\n",
       "      <td>romance</td>\n",
       "      <td>mimi jean pamfiloff</td>\n",
       "      <td>tailored for trouble</td>\n",
       "      <td>romance</td>\n",
       "      <td>contemporary</td>\n",
       "      <td>romance mimi jean pamfiloff tailored for troub...</td>\n",
       "    </tr>\n",
       "    <tr>\n",
       "      <th>3</th>\n",
       "      <td>fiction memoir</td>\n",
       "      <td>josé donoso</td>\n",
       "      <td>the obscene bird of night</td>\n",
       "      <td>fiction</td>\n",
       "      <td>magical realism</td>\n",
       "      <td>fiction memoir josé donoso the obscene bird of...</td>\n",
       "    </tr>\n",
       "    <tr>\n",
       "      <th>4</th>\n",
       "      <td>young adult fantasy</td>\n",
       "      <td>patricia c. wrede</td>\n",
       "      <td>sorcery &amp; cecelia  or the enchanted chocolate pot</td>\n",
       "      <td>fantasy</td>\n",
       "      <td>young adult</td>\n",
       "      <td>young adult fantasy patricia c. wrede sorcery ...</td>\n",
       "    </tr>\n",
       "  </tbody>\n",
       "</table>\n",
       "</div>"
      ],
      "text/plain": [
       "                          author_genres          author_name  \\\n",
       "0                    historical fiction    victoria thompson   \n",
       "1  literature fiction mystery thrillers        stieg larsson   \n",
       "2                               romance  mimi jean pamfiloff   \n",
       "3                        fiction memoir          josé donoso   \n",
       "4                   young adult fantasy    patricia c. wrede   \n",
       "\n",
       "                                          book_title  genre_1  \\\n",
       "0                         murder on st. mark's place  mystery   \n",
       "1                    the girl with the dragon tattoo  fiction   \n",
       "2                               tailored for trouble  romance   \n",
       "3                          the obscene bird of night  fiction   \n",
       "4  sorcery & cecelia  or the enchanted chocolate pot  fantasy   \n",
       "\n",
       "           genre_2                                               comb  \n",
       "0       historical  historical fiction victoria thompson murder on...  \n",
       "1          mystery  literature fiction mystery thrillers stieg lar...  \n",
       "2     contemporary  romance mimi jean pamfiloff tailored for troub...  \n",
       "3  magical realism  fiction memoir josé donoso the obscene bird of...  \n",
       "4      young adult  young adult fantasy patricia c. wrede sorcery ...  "
      ]
     },
     "execution_count": 4,
     "metadata": {},
     "output_type": "execute_result"
    }
   ],
   "source": [
    "data.head()"
   ]
  },
  {
   "cell_type": "markdown",
   "metadata": {},
   "source": [
    "### 2.Feature Encoding"
   ]
  },
  {
   "cell_type": "code",
   "execution_count": 5,
   "metadata": {},
   "outputs": [],
   "source": [
    "# creating a count matrix\n",
    "cv = CountVectorizer()\n",
    "count_matrix = cv.fit_transform(data['comb'])"
   ]
  },
  {
   "cell_type": "markdown",
   "metadata": {},
   "source": [
    "### 3.Compute the similarity score"
   ]
  },
  {
   "cell_type": "code",
   "execution_count": 6,
   "metadata": {},
   "outputs": [],
   "source": [
    "# creating a similarity score matrix\n",
    "sim = cosine_similarity(count_matrix)"
   ]
  },
  {
   "cell_type": "markdown",
   "metadata": {},
   "source": [
    "### 4.Save weights and modified dataframe"
   ]
  },
  {
   "cell_type": "code",
   "execution_count": 7,
   "metadata": {},
   "outputs": [],
   "source": [
    "# saving the similarity score matrix in a file for later use\n",
    "np.save('similarity_matrix', sim)"
   ]
  },
  {
   "cell_type": "code",
   "execution_count": 8,
   "metadata": {},
   "outputs": [],
   "source": [
    "# saving dataframe to csv for later use in main file\n",
    "data.to_csv('data.csv',index=False)"
   ]
  },
  {
   "cell_type": "markdown",
   "metadata": {},
   "source": [
    "### 5.Find the recommendations"
   ]
  },
  {
   "cell_type": "code",
   "execution_count": 9,
   "metadata": {},
   "outputs": [],
   "source": [
    "#provide the book name\n",
    "b = 'Harry Potter and the Half Blood Prince'\n",
    "#convert to lowercase\n",
    "b = b.lower()"
   ]
  },
  {
   "cell_type": "code",
   "execution_count": 10,
   "metadata": {},
   "outputs": [
    {
     "data": {
      "text/plain": [
       "True"
      ]
     },
     "execution_count": 10,
     "metadata": {},
     "output_type": "execute_result"
    }
   ],
   "source": [
    "#check if book exits\n",
    "b in data['book_title'].unique()"
   ]
  },
  {
   "cell_type": "code",
   "execution_count": 11,
   "metadata": {},
   "outputs": [
    {
     "name": "stdout",
     "output_type": "stream",
     "text": [
      "9939\n"
     ]
    }
   ],
   "source": [
    "#get the index value of the book in data dataframe\n",
    "i = data.loc[data['book_title'] == b].index[0]\n",
    "print(i)"
   ]
  },
  {
   "cell_type": "code",
   "execution_count": 12,
   "metadata": {},
   "outputs": [
    {
     "data": {
      "text/plain": [
       "array([0.08006408, 0.25819889, 0.        , ..., 0.10206207, 0.19245009,\n",
       "       0.08333333])"
      ]
     },
     "execution_count": 12,
     "metadata": {},
     "output_type": "execute_result"
    }
   ],
   "source": [
    "#get the score in the similarity matrix for this particular book\n",
    "sim[i]"
   ]
  },
  {
   "cell_type": "code",
   "execution_count": 23,
   "metadata": {},
   "outputs": [],
   "source": [
    "#we will enumerate through the array and store it in lst\n",
    "lst = list(enumerate(sim[i]))\n",
    "# sorting this list in decreasing order based on the similarity score\n",
    "lst = sorted(lst, key = lambda x:x[1] ,reverse=True)\n",
    "# taking top 1- book scores\n",
    "# not taking the first index since it is the same book\n",
    "lst = lst[1:11]"
   ]
  },
  {
   "cell_type": "code",
   "execution_count": 16,
   "metadata": {},
   "outputs": [
    {
     "data": {
      "text/plain": [
       "[(2960, 0.7500000000000002),\n",
       " (8276, 0.7453559924999299),\n",
       " (128, 0.6390096504226939),\n",
       " (2327, 0.6019292654288462),\n",
       " (12121, 0.5960395606792697),\n",
       " (13175, 0.5896618941607872),\n",
       " (8933, 0.560112033611204),\n",
       " (3963, 0.5555555555555557),\n",
       " (3692, 0.5539117094069973),\n",
       " (2553, 0.5527707983925667)]"
      ]
     },
     "execution_count": 16,
     "metadata": {},
     "output_type": "execute_result"
    }
   ],
   "source": [
    "lst"
   ]
  },
  {
   "cell_type": "code",
   "execution_count": 17,
   "metadata": {},
   "outputs": [],
   "source": [
    "# making an empty list that will containg all 10 book recommendations\n",
    "l = []\n",
    "for i in range(len(lst)):\n",
    "    a = lst[i][0]\n",
    "    l.append(data['book_title'][a])"
   ]
  },
  {
   "cell_type": "code",
   "execution_count": 21,
   "metadata": {},
   "outputs": [
    {
     "data": {
      "text/plain": [
       "['harry potter and the prisoner of azkaban',\n",
       " 'harry potter and the order of the phoenix',\n",
       " 'harry potter series box set',\n",
       " 'the seer and the sword',\n",
       " 'the blood keeper',\n",
       " \"james potter and the hall of elders' crossing\",\n",
       " 'the hero and the crown',\n",
       " 'thirst no. 1  the last vampire  black blood  and red dice',\n",
       " 'tell the wind and fire',\n",
       " 'the princess  the crone  and the dung cart knight']"
      ]
     },
     "execution_count": 21,
     "metadata": {},
     "output_type": "execute_result"
    }
   ],
   "source": [
    "#recommendation list\n",
    "l"
   ]
  },
  {
   "cell_type": "code",
   "execution_count": 22,
   "metadata": {},
   "outputs": [
    {
     "data": {
      "text/html": [
       "<div>\n",
       "<style scoped>\n",
       "    .dataframe tbody tr th:only-of-type {\n",
       "        vertical-align: middle;\n",
       "    }\n",
       "\n",
       "    .dataframe tbody tr th {\n",
       "        vertical-align: top;\n",
       "    }\n",
       "\n",
       "    .dataframe thead th {\n",
       "        text-align: right;\n",
       "    }\n",
       "</style>\n",
       "<table border=\"1\" class=\"dataframe\">\n",
       "  <thead>\n",
       "    <tr style=\"text-align: right;\">\n",
       "      <th></th>\n",
       "      <th>author_genres</th>\n",
       "      <th>author_name</th>\n",
       "      <th>book_title</th>\n",
       "      <th>genre_1</th>\n",
       "      <th>genre_2</th>\n",
       "      <th>comb</th>\n",
       "    </tr>\n",
       "  </thead>\n",
       "  <tbody>\n",
       "    <tr>\n",
       "      <th>128</th>\n",
       "      <td>fiction</td>\n",
       "      <td>j.k. rowling</td>\n",
       "      <td>harry potter series box set</td>\n",
       "      <td>fantasy</td>\n",
       "      <td>young adult</td>\n",
       "      <td>fiction j.k. rowling harry potter series box s...</td>\n",
       "    </tr>\n",
       "    <tr>\n",
       "      <th>2327</th>\n",
       "      <td>young adult science fiction fantasy</td>\n",
       "      <td>victoria hanley</td>\n",
       "      <td>the seer and the sword</td>\n",
       "      <td>fantasy</td>\n",
       "      <td>young adult</td>\n",
       "      <td>young adult science fiction fantasy victoria h...</td>\n",
       "    </tr>\n",
       "    <tr>\n",
       "      <th>2553</th>\n",
       "      <td>science fiction fantasy children s books young...</td>\n",
       "      <td>gerald morris</td>\n",
       "      <td>the princess  the crone  and the dung cart knight</td>\n",
       "      <td>fantasy</td>\n",
       "      <td>young adult</td>\n",
       "      <td>science fiction fantasy children s books young...</td>\n",
       "    </tr>\n",
       "    <tr>\n",
       "      <th>2960</th>\n",
       "      <td>fiction</td>\n",
       "      <td>j.k. rowling</td>\n",
       "      <td>harry potter and the prisoner of azkaban</td>\n",
       "      <td>fantasy</td>\n",
       "      <td>young adult</td>\n",
       "      <td>fiction j.k. rowling harry potter and the pris...</td>\n",
       "    </tr>\n",
       "    <tr>\n",
       "      <th>3692</th>\n",
       "      <td>science fiction fantasy young adult</td>\n",
       "      <td>sarah rees brennan</td>\n",
       "      <td>tell the wind and fire</td>\n",
       "      <td>fantasy</td>\n",
       "      <td>young adult</td>\n",
       "      <td>science fiction fantasy young adult sarah rees...</td>\n",
       "    </tr>\n",
       "    <tr>\n",
       "      <th>3963</th>\n",
       "      <td>young adult horror science fiction fantasy</td>\n",
       "      <td>christopher pike</td>\n",
       "      <td>thirst no. 1  the last vampire  black blood  a...</td>\n",
       "      <td>fantasy</td>\n",
       "      <td>young adult</td>\n",
       "      <td>young adult horror science fiction fantasy chr...</td>\n",
       "    </tr>\n",
       "    <tr>\n",
       "      <th>8276</th>\n",
       "      <td>fiction</td>\n",
       "      <td>j.k. rowling</td>\n",
       "      <td>harry potter and the order of the phoenix</td>\n",
       "      <td>fantasy</td>\n",
       "      <td>young adult</td>\n",
       "      <td>fiction j.k. rowling harry potter and the orde...</td>\n",
       "    </tr>\n",
       "    <tr>\n",
       "      <th>8933</th>\n",
       "      <td>science fiction fantasy</td>\n",
       "      <td>robin mckinley</td>\n",
       "      <td>the hero and the crown</td>\n",
       "      <td>fantasy</td>\n",
       "      <td>young adult</td>\n",
       "      <td>science fiction fantasy robin mckinley the her...</td>\n",
       "    </tr>\n",
       "    <tr>\n",
       "      <th>12121</th>\n",
       "      <td>young adult science fiction fantasy</td>\n",
       "      <td>tessa gratton</td>\n",
       "      <td>the blood keeper</td>\n",
       "      <td>young adult</td>\n",
       "      <td>fantasy</td>\n",
       "      <td>young adult science fiction fantasy tessa grat...</td>\n",
       "    </tr>\n",
       "    <tr>\n",
       "      <th>13175</th>\n",
       "      <td>science fiction fantasy young adult thriller a...</td>\n",
       "      <td>g. norman lippert</td>\n",
       "      <td>james potter and the hall of elders' crossing</td>\n",
       "      <td>fantasy</td>\n",
       "      <td>young adult</td>\n",
       "      <td>science fiction fantasy young adult thriller a...</td>\n",
       "    </tr>\n",
       "  </tbody>\n",
       "</table>\n",
       "</div>"
      ],
      "text/plain": [
       "                                           author_genres         author_name  \\\n",
       "128                                              fiction        j.k. rowling   \n",
       "2327                 young adult science fiction fantasy     victoria hanley   \n",
       "2553   science fiction fantasy children s books young...       gerald morris   \n",
       "2960                                             fiction        j.k. rowling   \n",
       "3692                 science fiction fantasy young adult  sarah rees brennan   \n",
       "3963          young adult horror science fiction fantasy    christopher pike   \n",
       "8276                                             fiction        j.k. rowling   \n",
       "8933                             science fiction fantasy      robin mckinley   \n",
       "12121                young adult science fiction fantasy       tessa gratton   \n",
       "13175  science fiction fantasy young adult thriller a...   g. norman lippert   \n",
       "\n",
       "                                              book_title      genre_1  \\\n",
       "128                          harry potter series box set      fantasy   \n",
       "2327                              the seer and the sword      fantasy   \n",
       "2553   the princess  the crone  and the dung cart knight      fantasy   \n",
       "2960            harry potter and the prisoner of azkaban      fantasy   \n",
       "3692                              tell the wind and fire      fantasy   \n",
       "3963   thirst no. 1  the last vampire  black blood  a...      fantasy   \n",
       "8276           harry potter and the order of the phoenix      fantasy   \n",
       "8933                              the hero and the crown      fantasy   \n",
       "12121                                   the blood keeper  young adult   \n",
       "13175      james potter and the hall of elders' crossing      fantasy   \n",
       "\n",
       "           genre_2                                               comb  \n",
       "128    young adult  fiction j.k. rowling harry potter series box s...  \n",
       "2327   young adult  young adult science fiction fantasy victoria h...  \n",
       "2553   young adult  science fiction fantasy children s books young...  \n",
       "2960   young adult  fiction j.k. rowling harry potter and the pris...  \n",
       "3692   young adult  science fiction fantasy young adult sarah rees...  \n",
       "3963   young adult  young adult horror science fiction fantasy chr...  \n",
       "8276   young adult  fiction j.k. rowling harry potter and the orde...  \n",
       "8933   young adult  science fiction fantasy robin mckinley the her...  \n",
       "12121      fantasy  young adult science fiction fantasy tessa grat...  \n",
       "13175  young adult  science fiction fantasy young adult thriller a...  "
      ]
     },
     "execution_count": 22,
     "metadata": {},
     "output_type": "execute_result"
    }
   ],
   "source": [
    "#Lets check complete information about these books also see if these recommendations make sense.\n",
    "data[data['book_title'].isin(l)]\n"
   ]
  }
 ],
 "metadata": {
  "kernelspec": {
   "display_name": "Python 3",
   "language": "python",
   "name": "python3"
  },
  "language_info": {
   "codemirror_mode": {
    "name": "ipython",
    "version": 3
   },
   "file_extension": ".py",
   "mimetype": "text/x-python",
   "name": "python",
   "nbconvert_exporter": "python",
   "pygments_lexer": "ipython3",
   "version": "3.7.3"
  }
 },
 "nbformat": 4,
 "nbformat_minor": 2
}
